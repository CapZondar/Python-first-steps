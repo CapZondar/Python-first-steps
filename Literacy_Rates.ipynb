{
  "nbformat": 4,
  "nbformat_minor": 0,
  "metadata": {
    "colab": {
      "provenance": [],
      "authorship_tag": "ABX9TyMnhT4mWsXrcHpAsouHlMgk",
      "include_colab_link": true
    },
    "kernelspec": {
      "name": "python3",
      "display_name": "Python 3"
    },
    "language_info": {
      "name": "python"
    }
  },
  "cells": [
    {
      "cell_type": "markdown",
      "metadata": {
        "id": "view-in-github",
        "colab_type": "text"
      },
      "source": [
        "<a href=\"https://colab.research.google.com/github/CapZondar/Python-first-steps/blob/main/Literacy_Rates.ipynb\" target=\"_parent\"><img src=\"https://colab.research.google.com/assets/colab-badge.svg\" alt=\"Open In Colab\"/></a>"
      ]
    },
    {
      "cell_type": "markdown",
      "source": [
        "#Literacy rate analysis\n",
        "### Submitted by John Vincent \"JT\" Aquilizan\n",
        "* Completed on 09/29/2022"
      ],
      "metadata": {
        "id": "lZVvoaIbNSzD"
      }
    },
    {
      "cell_type": "code",
      "execution_count": 1222,
      "metadata": {
        "colab": {
          "base_uri": "https://localhost:8080/"
        },
        "id": "tPJnU6Wfe7_S",
        "outputId": "ccfe9ca7-73fd-4a64-f5e0-57da3f9ac2df"
      },
      "outputs": [
        {
          "output_type": "stream",
          "name": "stdout",
          "text": [
            "Drive already mounted at /content/drive; to attempt to forcibly remount, call drive.mount(\"/content/drive\", force_remount=True).\n"
          ]
        }
      ],
      "source": [
        "from google.colab import drive\n",
        "drive.mount('/content/drive')\n"
      ]
    },
    {
      "cell_type": "code",
      "source": [
        "import numpy as np\n",
        "import pandas as pd\n",
        "import seaborn as sns\n",
        "import matplotlib.pyplot as plt"
      ],
      "metadata": {
        "id": "IKGMEwV0iAKP"
      },
      "execution_count": 1223,
      "outputs": []
    },
    {
      "cell_type": "code",
      "source": [
        "filename = ('/content/drive/MyDrive/Coding Dojo - Data Science/Belt Exam/literacy_rates.csv')\n",
        "\n",
        "df = pd.read_csv(filename)\n",
        "df"
      ],
      "metadata": {
        "colab": {
          "base_uri": "https://localhost:8080/",
          "height": 424
        },
        "id": "ALLrvTKciIyF",
        "outputId": "78d8a3ce-59bd-434b-9fec-2c8a5ecea10f"
      },
      "execution_count": 1224,
      "outputs": [
        {
          "output_type": "execute_result",
          "data": {
            "text/plain": [
              "                         Region      Country  Year    Age  Gender  \\\n",
              "0     Central and Southern Asia  Afghanistan  2011    15+  female   \n",
              "1     Central and Southern Asia  Afghanistan  2011    15+    male   \n",
              "2     Central and Southern Asia  Afghanistan  2011    15+   total   \n",
              "3                           NaN  Afghanistan  2011  15-24  female   \n",
              "4                           NaN  Afghanistan  2011  15-24    male   \n",
              "...                         ...          ...   ...    ...     ...   \n",
              "4950         Sub-Saharan Africa     Zimbabwe  2014  25-64    male   \n",
              "4951         Sub-Saharan Africa     Zimbabwe  2014  25-64   total   \n",
              "4952         Sub-Saharan Africa     Zimbabwe  2014    65+  female   \n",
              "4953         Sub-Saharan Africa     Zimbabwe  2014    65+    male   \n",
              "4954         Sub-Saharan Africa     Zimbabwe  2014    65+   total   \n",
              "\n",
              "           Literacy rate  \n",
              "0              0.1761206  \n",
              "1               0.454171  \n",
              "2              0.3174112  \n",
              "3              0.3211322  \n",
              "4              0.6187907  \n",
              "...                  ...  \n",
              "4950  0.8972553999999999  \n",
              "4951           0.8878737  \n",
              "4952           0.7342576  \n",
              "4953  0.9272311000000001  \n",
              "4954            0.811269  \n",
              "\n",
              "[4955 rows x 6 columns]"
            ],
            "text/html": [
              "\n",
              "  <div id=\"df-2f61d26e-192e-46b0-af5d-9037cb43ee49\">\n",
              "    <div class=\"colab-df-container\">\n",
              "      <div>\n",
              "<style scoped>\n",
              "    .dataframe tbody tr th:only-of-type {\n",
              "        vertical-align: middle;\n",
              "    }\n",
              "\n",
              "    .dataframe tbody tr th {\n",
              "        vertical-align: top;\n",
              "    }\n",
              "\n",
              "    .dataframe thead th {\n",
              "        text-align: right;\n",
              "    }\n",
              "</style>\n",
              "<table border=\"1\" class=\"dataframe\">\n",
              "  <thead>\n",
              "    <tr style=\"text-align: right;\">\n",
              "      <th></th>\n",
              "      <th>Region</th>\n",
              "      <th>Country</th>\n",
              "      <th>Year</th>\n",
              "      <th>Age</th>\n",
              "      <th>Gender</th>\n",
              "      <th>Literacy rate</th>\n",
              "    </tr>\n",
              "  </thead>\n",
              "  <tbody>\n",
              "    <tr>\n",
              "      <th>0</th>\n",
              "      <td>Central and Southern Asia</td>\n",
              "      <td>Afghanistan</td>\n",
              "      <td>2011</td>\n",
              "      <td>15+</td>\n",
              "      <td>female</td>\n",
              "      <td>0.1761206</td>\n",
              "    </tr>\n",
              "    <tr>\n",
              "      <th>1</th>\n",
              "      <td>Central and Southern Asia</td>\n",
              "      <td>Afghanistan</td>\n",
              "      <td>2011</td>\n",
              "      <td>15+</td>\n",
              "      <td>male</td>\n",
              "      <td>0.454171</td>\n",
              "    </tr>\n",
              "    <tr>\n",
              "      <th>2</th>\n",
              "      <td>Central and Southern Asia</td>\n",
              "      <td>Afghanistan</td>\n",
              "      <td>2011</td>\n",
              "      <td>15+</td>\n",
              "      <td>total</td>\n",
              "      <td>0.3174112</td>\n",
              "    </tr>\n",
              "    <tr>\n",
              "      <th>3</th>\n",
              "      <td>NaN</td>\n",
              "      <td>Afghanistan</td>\n",
              "      <td>2011</td>\n",
              "      <td>15-24</td>\n",
              "      <td>female</td>\n",
              "      <td>0.3211322</td>\n",
              "    </tr>\n",
              "    <tr>\n",
              "      <th>4</th>\n",
              "      <td>NaN</td>\n",
              "      <td>Afghanistan</td>\n",
              "      <td>2011</td>\n",
              "      <td>15-24</td>\n",
              "      <td>male</td>\n",
              "      <td>0.6187907</td>\n",
              "    </tr>\n",
              "    <tr>\n",
              "      <th>...</th>\n",
              "      <td>...</td>\n",
              "      <td>...</td>\n",
              "      <td>...</td>\n",
              "      <td>...</td>\n",
              "      <td>...</td>\n",
              "      <td>...</td>\n",
              "    </tr>\n",
              "    <tr>\n",
              "      <th>4950</th>\n",
              "      <td>Sub-Saharan Africa</td>\n",
              "      <td>Zimbabwe</td>\n",
              "      <td>2014</td>\n",
              "      <td>25-64</td>\n",
              "      <td>male</td>\n",
              "      <td>0.8972553999999999</td>\n",
              "    </tr>\n",
              "    <tr>\n",
              "      <th>4951</th>\n",
              "      <td>Sub-Saharan Africa</td>\n",
              "      <td>Zimbabwe</td>\n",
              "      <td>2014</td>\n",
              "      <td>25-64</td>\n",
              "      <td>total</td>\n",
              "      <td>0.8878737</td>\n",
              "    </tr>\n",
              "    <tr>\n",
              "      <th>4952</th>\n",
              "      <td>Sub-Saharan Africa</td>\n",
              "      <td>Zimbabwe</td>\n",
              "      <td>2014</td>\n",
              "      <td>65+</td>\n",
              "      <td>female</td>\n",
              "      <td>0.7342576</td>\n",
              "    </tr>\n",
              "    <tr>\n",
              "      <th>4953</th>\n",
              "      <td>Sub-Saharan Africa</td>\n",
              "      <td>Zimbabwe</td>\n",
              "      <td>2014</td>\n",
              "      <td>65+</td>\n",
              "      <td>male</td>\n",
              "      <td>0.9272311000000001</td>\n",
              "    </tr>\n",
              "    <tr>\n",
              "      <th>4954</th>\n",
              "      <td>Sub-Saharan Africa</td>\n",
              "      <td>Zimbabwe</td>\n",
              "      <td>2014</td>\n",
              "      <td>65+</td>\n",
              "      <td>total</td>\n",
              "      <td>0.811269</td>\n",
              "    </tr>\n",
              "  </tbody>\n",
              "</table>\n",
              "<p>4955 rows × 6 columns</p>\n",
              "</div>\n",
              "      <button class=\"colab-df-convert\" onclick=\"convertToInteractive('df-2f61d26e-192e-46b0-af5d-9037cb43ee49')\"\n",
              "              title=\"Convert this dataframe to an interactive table.\"\n",
              "              style=\"display:none;\">\n",
              "        \n",
              "  <svg xmlns=\"http://www.w3.org/2000/svg\" height=\"24px\"viewBox=\"0 0 24 24\"\n",
              "       width=\"24px\">\n",
              "    <path d=\"M0 0h24v24H0V0z\" fill=\"none\"/>\n",
              "    <path d=\"M18.56 5.44l.94 2.06.94-2.06 2.06-.94-2.06-.94-.94-2.06-.94 2.06-2.06.94zm-11 1L8.5 8.5l.94-2.06 2.06-.94-2.06-.94L8.5 2.5l-.94 2.06-2.06.94zm10 10l.94 2.06.94-2.06 2.06-.94-2.06-.94-.94-2.06-.94 2.06-2.06.94z\"/><path d=\"M17.41 7.96l-1.37-1.37c-.4-.4-.92-.59-1.43-.59-.52 0-1.04.2-1.43.59L10.3 9.45l-7.72 7.72c-.78.78-.78 2.05 0 2.83L4 21.41c.39.39.9.59 1.41.59.51 0 1.02-.2 1.41-.59l7.78-7.78 2.81-2.81c.8-.78.8-2.07 0-2.86zM5.41 20L4 18.59l7.72-7.72 1.47 1.35L5.41 20z\"/>\n",
              "  </svg>\n",
              "      </button>\n",
              "      \n",
              "  <style>\n",
              "    .colab-df-container {\n",
              "      display:flex;\n",
              "      flex-wrap:wrap;\n",
              "      gap: 12px;\n",
              "    }\n",
              "\n",
              "    .colab-df-convert {\n",
              "      background-color: #E8F0FE;\n",
              "      border: none;\n",
              "      border-radius: 50%;\n",
              "      cursor: pointer;\n",
              "      display: none;\n",
              "      fill: #1967D2;\n",
              "      height: 32px;\n",
              "      padding: 0 0 0 0;\n",
              "      width: 32px;\n",
              "    }\n",
              "\n",
              "    .colab-df-convert:hover {\n",
              "      background-color: #E2EBFA;\n",
              "      box-shadow: 0px 1px 2px rgba(60, 64, 67, 0.3), 0px 1px 3px 1px rgba(60, 64, 67, 0.15);\n",
              "      fill: #174EA6;\n",
              "    }\n",
              "\n",
              "    [theme=dark] .colab-df-convert {\n",
              "      background-color: #3B4455;\n",
              "      fill: #D2E3FC;\n",
              "    }\n",
              "\n",
              "    [theme=dark] .colab-df-convert:hover {\n",
              "      background-color: #434B5C;\n",
              "      box-shadow: 0px 1px 3px 1px rgba(0, 0, 0, 0.15);\n",
              "      filter: drop-shadow(0px 1px 2px rgba(0, 0, 0, 0.3));\n",
              "      fill: #FFFFFF;\n",
              "    }\n",
              "  </style>\n",
              "\n",
              "      <script>\n",
              "        const buttonEl =\n",
              "          document.querySelector('#df-2f61d26e-192e-46b0-af5d-9037cb43ee49 button.colab-df-convert');\n",
              "        buttonEl.style.display =\n",
              "          google.colab.kernel.accessAllowed ? 'block' : 'none';\n",
              "\n",
              "        async function convertToInteractive(key) {\n",
              "          const element = document.querySelector('#df-2f61d26e-192e-46b0-af5d-9037cb43ee49');\n",
              "          const dataTable =\n",
              "            await google.colab.kernel.invokeFunction('convertToInteractive',\n",
              "                                                     [key], {});\n",
              "          if (!dataTable) return;\n",
              "\n",
              "          const docLinkHtml = 'Like what you see? Visit the ' +\n",
              "            '<a target=\"_blank\" href=https://colab.research.google.com/notebooks/data_table.ipynb>data table notebook</a>'\n",
              "            + ' to learn more about interactive tables.';\n",
              "          element.innerHTML = '';\n",
              "          dataTable['output_type'] = 'display_data';\n",
              "          await google.colab.output.renderOutput(dataTable, element);\n",
              "          const docLink = document.createElement('div');\n",
              "          docLink.innerHTML = docLinkHtml;\n",
              "          element.appendChild(docLink);\n",
              "        }\n",
              "      </script>\n",
              "    </div>\n",
              "  </div>\n",
              "  "
            ]
          },
          "metadata": {},
          "execution_count": 1224
        }
      ]
    },
    {
      "cell_type": "code",
      "source": [
        "df.info()"
      ],
      "metadata": {
        "colab": {
          "base_uri": "https://localhost:8080/"
        },
        "id": "H6ndXGeui-JP",
        "outputId": "12c6455b-858f-4109-d635-debecfc0b8db"
      },
      "execution_count": 1225,
      "outputs": [
        {
          "output_type": "stream",
          "name": "stdout",
          "text": [
            "<class 'pandas.core.frame.DataFrame'>\n",
            "RangeIndex: 4955 entries, 0 to 4954\n",
            "Data columns (total 6 columns):\n",
            " #   Column         Non-Null Count  Dtype \n",
            "---  ------         --------------  ----- \n",
            " 0   Region         4950 non-null   object\n",
            " 1   Country        4955 non-null   object\n",
            " 2   Year           4955 non-null   int64 \n",
            " 3   Age            4955 non-null   object\n",
            " 4   Gender         4955 non-null   object\n",
            " 5   Literacy rate  4955 non-null   object\n",
            "dtypes: int64(1), object(5)\n",
            "memory usage: 232.4+ KB\n"
          ]
        }
      ]
    },
    {
      "cell_type": "code",
      "source": [
        "#Since the literacy rate is listed as an object instead of float, we will be converting the data type.\n",
        "#Initially tried to convert the entire column to float but was having issues because of 1 value showing as percent instead of decimal.\n",
        "#To address the issue I have created a function to strip the % sign and also convert the value directly to float. This is based on a solution I found \n",
        "#from: https://stackoverflow.com/questions/12432663/what-is-a-clean-way-to-convert-a-string-percent-to-a-float // I chose this function to make sure that the solution is scalable and to ensure I know how to replicate in the future\n",
        "\n",
        "stripping = lambda x: (x.strip('%'))\n",
        "\n",
        "df2 = df['Literacy rate'].apply(stripping)\n",
        "df['Literacy Rate'] = df2\n",
        "df.drop(columns=['Literacy rate'],inplace=True)\n",
        "df[\"Literacy Rate\"] = df['Literacy Rate'].astype(float)\n",
        "print(df.dtypes)\n",
        "\n",
        "#PARKED QUESTION: I had difficulty in changing the value itself on the column for literacy rate so I decided to create a new column based on the new series created by the function"
      ],
      "metadata": {
        "colab": {
          "base_uri": "https://localhost:8080/"
        },
        "id": "hfehnIM7lY6g",
        "outputId": "8e81fd34-9111-459b-8eaa-3ff9daae1562"
      },
      "execution_count": 1226,
      "outputs": [
        {
          "output_type": "stream",
          "name": "stdout",
          "text": [
            "Region            object\n",
            "Country           object\n",
            "Year               int64\n",
            "Age               object\n",
            "Gender            object\n",
            "Literacy Rate    float64\n",
            "dtype: object\n"
          ]
        }
      ]
    },
    {
      "cell_type": "code",
      "source": [
        "div = lambda x: x/100 if(x>1) else x\n",
        "\n",
        "df3 = df['Literacy Rate'].apply(div)\n",
        "df['Literacy Rate'] = df3"
      ],
      "metadata": {
        "id": "uOtFiTdkQvvF"
      },
      "execution_count": 1227,
      "outputs": []
    },
    {
      "cell_type": "code",
      "source": [
        "df.info()\n",
        "df"
      ],
      "metadata": {
        "colab": {
          "base_uri": "https://localhost:8080/",
          "height": 649
        },
        "id": "-h3hAIp9KoeX",
        "outputId": "2651e394-9eeb-4892-b9b6-20a19852f97e"
      },
      "execution_count": 1228,
      "outputs": [
        {
          "output_type": "stream",
          "name": "stdout",
          "text": [
            "<class 'pandas.core.frame.DataFrame'>\n",
            "RangeIndex: 4955 entries, 0 to 4954\n",
            "Data columns (total 6 columns):\n",
            " #   Column         Non-Null Count  Dtype  \n",
            "---  ------         --------------  -----  \n",
            " 0   Region         4950 non-null   object \n",
            " 1   Country        4955 non-null   object \n",
            " 2   Year           4955 non-null   int64  \n",
            " 3   Age            4955 non-null   object \n",
            " 4   Gender         4955 non-null   object \n",
            " 5   Literacy Rate  4955 non-null   float64\n",
            "dtypes: float64(1), int64(1), object(4)\n",
            "memory usage: 232.4+ KB\n"
          ]
        },
        {
          "output_type": "execute_result",
          "data": {
            "text/plain": [
              "                         Region      Country  Year    Age  Gender  \\\n",
              "0     Central and Southern Asia  Afghanistan  2011    15+  female   \n",
              "1     Central and Southern Asia  Afghanistan  2011    15+    male   \n",
              "2     Central and Southern Asia  Afghanistan  2011    15+   total   \n",
              "3                           NaN  Afghanistan  2011  15-24  female   \n",
              "4                           NaN  Afghanistan  2011  15-24    male   \n",
              "...                         ...          ...   ...    ...     ...   \n",
              "4950         Sub-Saharan Africa     Zimbabwe  2014  25-64    male   \n",
              "4951         Sub-Saharan Africa     Zimbabwe  2014  25-64   total   \n",
              "4952         Sub-Saharan Africa     Zimbabwe  2014    65+  female   \n",
              "4953         Sub-Saharan Africa     Zimbabwe  2014    65+    male   \n",
              "4954         Sub-Saharan Africa     Zimbabwe  2014    65+   total   \n",
              "\n",
              "      Literacy Rate  \n",
              "0          0.176121  \n",
              "1          0.454171  \n",
              "2          0.317411  \n",
              "3          0.321132  \n",
              "4          0.618791  \n",
              "...             ...  \n",
              "4950       0.897255  \n",
              "4951       0.887874  \n",
              "4952       0.734258  \n",
              "4953       0.927231  \n",
              "4954       0.811269  \n",
              "\n",
              "[4955 rows x 6 columns]"
            ],
            "text/html": [
              "\n",
              "  <div id=\"df-9a898ec7-d3fd-4ec9-b116-567899930089\">\n",
              "    <div class=\"colab-df-container\">\n",
              "      <div>\n",
              "<style scoped>\n",
              "    .dataframe tbody tr th:only-of-type {\n",
              "        vertical-align: middle;\n",
              "    }\n",
              "\n",
              "    .dataframe tbody tr th {\n",
              "        vertical-align: top;\n",
              "    }\n",
              "\n",
              "    .dataframe thead th {\n",
              "        text-align: right;\n",
              "    }\n",
              "</style>\n",
              "<table border=\"1\" class=\"dataframe\">\n",
              "  <thead>\n",
              "    <tr style=\"text-align: right;\">\n",
              "      <th></th>\n",
              "      <th>Region</th>\n",
              "      <th>Country</th>\n",
              "      <th>Year</th>\n",
              "      <th>Age</th>\n",
              "      <th>Gender</th>\n",
              "      <th>Literacy Rate</th>\n",
              "    </tr>\n",
              "  </thead>\n",
              "  <tbody>\n",
              "    <tr>\n",
              "      <th>0</th>\n",
              "      <td>Central and Southern Asia</td>\n",
              "      <td>Afghanistan</td>\n",
              "      <td>2011</td>\n",
              "      <td>15+</td>\n",
              "      <td>female</td>\n",
              "      <td>0.176121</td>\n",
              "    </tr>\n",
              "    <tr>\n",
              "      <th>1</th>\n",
              "      <td>Central and Southern Asia</td>\n",
              "      <td>Afghanistan</td>\n",
              "      <td>2011</td>\n",
              "      <td>15+</td>\n",
              "      <td>male</td>\n",
              "      <td>0.454171</td>\n",
              "    </tr>\n",
              "    <tr>\n",
              "      <th>2</th>\n",
              "      <td>Central and Southern Asia</td>\n",
              "      <td>Afghanistan</td>\n",
              "      <td>2011</td>\n",
              "      <td>15+</td>\n",
              "      <td>total</td>\n",
              "      <td>0.317411</td>\n",
              "    </tr>\n",
              "    <tr>\n",
              "      <th>3</th>\n",
              "      <td>NaN</td>\n",
              "      <td>Afghanistan</td>\n",
              "      <td>2011</td>\n",
              "      <td>15-24</td>\n",
              "      <td>female</td>\n",
              "      <td>0.321132</td>\n",
              "    </tr>\n",
              "    <tr>\n",
              "      <th>4</th>\n",
              "      <td>NaN</td>\n",
              "      <td>Afghanistan</td>\n",
              "      <td>2011</td>\n",
              "      <td>15-24</td>\n",
              "      <td>male</td>\n",
              "      <td>0.618791</td>\n",
              "    </tr>\n",
              "    <tr>\n",
              "      <th>...</th>\n",
              "      <td>...</td>\n",
              "      <td>...</td>\n",
              "      <td>...</td>\n",
              "      <td>...</td>\n",
              "      <td>...</td>\n",
              "      <td>...</td>\n",
              "    </tr>\n",
              "    <tr>\n",
              "      <th>4950</th>\n",
              "      <td>Sub-Saharan Africa</td>\n",
              "      <td>Zimbabwe</td>\n",
              "      <td>2014</td>\n",
              "      <td>25-64</td>\n",
              "      <td>male</td>\n",
              "      <td>0.897255</td>\n",
              "    </tr>\n",
              "    <tr>\n",
              "      <th>4951</th>\n",
              "      <td>Sub-Saharan Africa</td>\n",
              "      <td>Zimbabwe</td>\n",
              "      <td>2014</td>\n",
              "      <td>25-64</td>\n",
              "      <td>total</td>\n",
              "      <td>0.887874</td>\n",
              "    </tr>\n",
              "    <tr>\n",
              "      <th>4952</th>\n",
              "      <td>Sub-Saharan Africa</td>\n",
              "      <td>Zimbabwe</td>\n",
              "      <td>2014</td>\n",
              "      <td>65+</td>\n",
              "      <td>female</td>\n",
              "      <td>0.734258</td>\n",
              "    </tr>\n",
              "    <tr>\n",
              "      <th>4953</th>\n",
              "      <td>Sub-Saharan Africa</td>\n",
              "      <td>Zimbabwe</td>\n",
              "      <td>2014</td>\n",
              "      <td>65+</td>\n",
              "      <td>male</td>\n",
              "      <td>0.927231</td>\n",
              "    </tr>\n",
              "    <tr>\n",
              "      <th>4954</th>\n",
              "      <td>Sub-Saharan Africa</td>\n",
              "      <td>Zimbabwe</td>\n",
              "      <td>2014</td>\n",
              "      <td>65+</td>\n",
              "      <td>total</td>\n",
              "      <td>0.811269</td>\n",
              "    </tr>\n",
              "  </tbody>\n",
              "</table>\n",
              "<p>4955 rows × 6 columns</p>\n",
              "</div>\n",
              "      <button class=\"colab-df-convert\" onclick=\"convertToInteractive('df-9a898ec7-d3fd-4ec9-b116-567899930089')\"\n",
              "              title=\"Convert this dataframe to an interactive table.\"\n",
              "              style=\"display:none;\">\n",
              "        \n",
              "  <svg xmlns=\"http://www.w3.org/2000/svg\" height=\"24px\"viewBox=\"0 0 24 24\"\n",
              "       width=\"24px\">\n",
              "    <path d=\"M0 0h24v24H0V0z\" fill=\"none\"/>\n",
              "    <path d=\"M18.56 5.44l.94 2.06.94-2.06 2.06-.94-2.06-.94-.94-2.06-.94 2.06-2.06.94zm-11 1L8.5 8.5l.94-2.06 2.06-.94-2.06-.94L8.5 2.5l-.94 2.06-2.06.94zm10 10l.94 2.06.94-2.06 2.06-.94-2.06-.94-.94-2.06-.94 2.06-2.06.94z\"/><path d=\"M17.41 7.96l-1.37-1.37c-.4-.4-.92-.59-1.43-.59-.52 0-1.04.2-1.43.59L10.3 9.45l-7.72 7.72c-.78.78-.78 2.05 0 2.83L4 21.41c.39.39.9.59 1.41.59.51 0 1.02-.2 1.41-.59l7.78-7.78 2.81-2.81c.8-.78.8-2.07 0-2.86zM5.41 20L4 18.59l7.72-7.72 1.47 1.35L5.41 20z\"/>\n",
              "  </svg>\n",
              "      </button>\n",
              "      \n",
              "  <style>\n",
              "    .colab-df-container {\n",
              "      display:flex;\n",
              "      flex-wrap:wrap;\n",
              "      gap: 12px;\n",
              "    }\n",
              "\n",
              "    .colab-df-convert {\n",
              "      background-color: #E8F0FE;\n",
              "      border: none;\n",
              "      border-radius: 50%;\n",
              "      cursor: pointer;\n",
              "      display: none;\n",
              "      fill: #1967D2;\n",
              "      height: 32px;\n",
              "      padding: 0 0 0 0;\n",
              "      width: 32px;\n",
              "    }\n",
              "\n",
              "    .colab-df-convert:hover {\n",
              "      background-color: #E2EBFA;\n",
              "      box-shadow: 0px 1px 2px rgba(60, 64, 67, 0.3), 0px 1px 3px 1px rgba(60, 64, 67, 0.15);\n",
              "      fill: #174EA6;\n",
              "    }\n",
              "\n",
              "    [theme=dark] .colab-df-convert {\n",
              "      background-color: #3B4455;\n",
              "      fill: #D2E3FC;\n",
              "    }\n",
              "\n",
              "    [theme=dark] .colab-df-convert:hover {\n",
              "      background-color: #434B5C;\n",
              "      box-shadow: 0px 1px 3px 1px rgba(0, 0, 0, 0.15);\n",
              "      filter: drop-shadow(0px 1px 2px rgba(0, 0, 0, 0.3));\n",
              "      fill: #FFFFFF;\n",
              "    }\n",
              "  </style>\n",
              "\n",
              "      <script>\n",
              "        const buttonEl =\n",
              "          document.querySelector('#df-9a898ec7-d3fd-4ec9-b116-567899930089 button.colab-df-convert');\n",
              "        buttonEl.style.display =\n",
              "          google.colab.kernel.accessAllowed ? 'block' : 'none';\n",
              "\n",
              "        async function convertToInteractive(key) {\n",
              "          const element = document.querySelector('#df-9a898ec7-d3fd-4ec9-b116-567899930089');\n",
              "          const dataTable =\n",
              "            await google.colab.kernel.invokeFunction('convertToInteractive',\n",
              "                                                     [key], {});\n",
              "          if (!dataTable) return;\n",
              "\n",
              "          const docLinkHtml = 'Like what you see? Visit the ' +\n",
              "            '<a target=\"_blank\" href=https://colab.research.google.com/notebooks/data_table.ipynb>data table notebook</a>'\n",
              "            + ' to learn more about interactive tables.';\n",
              "          element.innerHTML = '';\n",
              "          dataTable['output_type'] = 'display_data';\n",
              "          await google.colab.output.renderOutput(dataTable, element);\n",
              "          const docLink = document.createElement('div');\n",
              "          docLink.innerHTML = docLinkHtml;\n",
              "          element.appendChild(docLink);\n",
              "        }\n",
              "      </script>\n",
              "    </div>\n",
              "  </div>\n",
              "  "
            ]
          },
          "metadata": {},
          "execution_count": 1228
        }
      ]
    },
    {
      "cell_type": "code",
      "source": [
        "#Checking for duplicates\n",
        "df.duplicated().any()"
      ],
      "metadata": {
        "colab": {
          "base_uri": "https://localhost:8080/"
        },
        "id": "Yqw1MMy1r3nb",
        "outputId": "920b97ef-3743-4e4b-9899-1fc3e5c968e3"
      },
      "execution_count": 1229,
      "outputs": [
        {
          "output_type": "execute_result",
          "data": {
            "text/plain": [
              "False"
            ]
          },
          "metadata": {},
          "execution_count": 1229
        }
      ]
    },
    {
      "cell_type": "code",
      "source": [
        "#Checking for any null values\n",
        "\n",
        "df.isna().sum()"
      ],
      "metadata": {
        "colab": {
          "base_uri": "https://localhost:8080/"
        },
        "id": "k7Vc4K7rjnX2",
        "outputId": "c3f31412-b5ad-418b-fa77-6f8bc34e5163"
      },
      "execution_count": 1230,
      "outputs": [
        {
          "output_type": "execute_result",
          "data": {
            "text/plain": [
              "Region           5\n",
              "Country          0\n",
              "Year             0\n",
              "Age              0\n",
              "Gender           0\n",
              "Literacy Rate    0\n",
              "dtype: int64"
            ]
          },
          "metadata": {},
          "execution_count": 1230
        }
      ]
    },
    {
      "cell_type": "code",
      "source": [
        "#after finding out that only Region has missing values, I further checked on what countries have missing region values\n",
        "\n",
        "missing_region = df['Region'].isna()\n",
        "\n",
        "df[missing_region]"
      ],
      "metadata": {
        "colab": {
          "base_uri": "https://localhost:8080/",
          "height": 206
        },
        "id": "E_arplpljse8",
        "outputId": "8186c92c-9a7e-4bbf-8b88-b8defa19ee92"
      },
      "execution_count": 1231,
      "outputs": [
        {
          "output_type": "execute_result",
          "data": {
            "text/plain": [
              "    Region      Country  Year    Age  Gender  Literacy Rate\n",
              "3      NaN  Afghanistan  2011  15-24  female       0.321132\n",
              "4      NaN  Afghanistan  2011  15-24    male       0.618791\n",
              "464    NaN   Uzbekistan  2016    65+  female       0.996697\n",
              "465    NaN   Uzbekistan  2016    65+    male       0.999018\n",
              "466    NaN   Uzbekistan  2016    65+   total       0.997719"
            ],
            "text/html": [
              "\n",
              "  <div id=\"df-13707226-2226-47b9-88b3-28f6f4b03718\">\n",
              "    <div class=\"colab-df-container\">\n",
              "      <div>\n",
              "<style scoped>\n",
              "    .dataframe tbody tr th:only-of-type {\n",
              "        vertical-align: middle;\n",
              "    }\n",
              "\n",
              "    .dataframe tbody tr th {\n",
              "        vertical-align: top;\n",
              "    }\n",
              "\n",
              "    .dataframe thead th {\n",
              "        text-align: right;\n",
              "    }\n",
              "</style>\n",
              "<table border=\"1\" class=\"dataframe\">\n",
              "  <thead>\n",
              "    <tr style=\"text-align: right;\">\n",
              "      <th></th>\n",
              "      <th>Region</th>\n",
              "      <th>Country</th>\n",
              "      <th>Year</th>\n",
              "      <th>Age</th>\n",
              "      <th>Gender</th>\n",
              "      <th>Literacy Rate</th>\n",
              "    </tr>\n",
              "  </thead>\n",
              "  <tbody>\n",
              "    <tr>\n",
              "      <th>3</th>\n",
              "      <td>NaN</td>\n",
              "      <td>Afghanistan</td>\n",
              "      <td>2011</td>\n",
              "      <td>15-24</td>\n",
              "      <td>female</td>\n",
              "      <td>0.321132</td>\n",
              "    </tr>\n",
              "    <tr>\n",
              "      <th>4</th>\n",
              "      <td>NaN</td>\n",
              "      <td>Afghanistan</td>\n",
              "      <td>2011</td>\n",
              "      <td>15-24</td>\n",
              "      <td>male</td>\n",
              "      <td>0.618791</td>\n",
              "    </tr>\n",
              "    <tr>\n",
              "      <th>464</th>\n",
              "      <td>NaN</td>\n",
              "      <td>Uzbekistan</td>\n",
              "      <td>2016</td>\n",
              "      <td>65+</td>\n",
              "      <td>female</td>\n",
              "      <td>0.996697</td>\n",
              "    </tr>\n",
              "    <tr>\n",
              "      <th>465</th>\n",
              "      <td>NaN</td>\n",
              "      <td>Uzbekistan</td>\n",
              "      <td>2016</td>\n",
              "      <td>65+</td>\n",
              "      <td>male</td>\n",
              "      <td>0.999018</td>\n",
              "    </tr>\n",
              "    <tr>\n",
              "      <th>466</th>\n",
              "      <td>NaN</td>\n",
              "      <td>Uzbekistan</td>\n",
              "      <td>2016</td>\n",
              "      <td>65+</td>\n",
              "      <td>total</td>\n",
              "      <td>0.997719</td>\n",
              "    </tr>\n",
              "  </tbody>\n",
              "</table>\n",
              "</div>\n",
              "      <button class=\"colab-df-convert\" onclick=\"convertToInteractive('df-13707226-2226-47b9-88b3-28f6f4b03718')\"\n",
              "              title=\"Convert this dataframe to an interactive table.\"\n",
              "              style=\"display:none;\">\n",
              "        \n",
              "  <svg xmlns=\"http://www.w3.org/2000/svg\" height=\"24px\"viewBox=\"0 0 24 24\"\n",
              "       width=\"24px\">\n",
              "    <path d=\"M0 0h24v24H0V0z\" fill=\"none\"/>\n",
              "    <path d=\"M18.56 5.44l.94 2.06.94-2.06 2.06-.94-2.06-.94-.94-2.06-.94 2.06-2.06.94zm-11 1L8.5 8.5l.94-2.06 2.06-.94-2.06-.94L8.5 2.5l-.94 2.06-2.06.94zm10 10l.94 2.06.94-2.06 2.06-.94-2.06-.94-.94-2.06-.94 2.06-2.06.94z\"/><path d=\"M17.41 7.96l-1.37-1.37c-.4-.4-.92-.59-1.43-.59-.52 0-1.04.2-1.43.59L10.3 9.45l-7.72 7.72c-.78.78-.78 2.05 0 2.83L4 21.41c.39.39.9.59 1.41.59.51 0 1.02-.2 1.41-.59l7.78-7.78 2.81-2.81c.8-.78.8-2.07 0-2.86zM5.41 20L4 18.59l7.72-7.72 1.47 1.35L5.41 20z\"/>\n",
              "  </svg>\n",
              "      </button>\n",
              "      \n",
              "  <style>\n",
              "    .colab-df-container {\n",
              "      display:flex;\n",
              "      flex-wrap:wrap;\n",
              "      gap: 12px;\n",
              "    }\n",
              "\n",
              "    .colab-df-convert {\n",
              "      background-color: #E8F0FE;\n",
              "      border: none;\n",
              "      border-radius: 50%;\n",
              "      cursor: pointer;\n",
              "      display: none;\n",
              "      fill: #1967D2;\n",
              "      height: 32px;\n",
              "      padding: 0 0 0 0;\n",
              "      width: 32px;\n",
              "    }\n",
              "\n",
              "    .colab-df-convert:hover {\n",
              "      background-color: #E2EBFA;\n",
              "      box-shadow: 0px 1px 2px rgba(60, 64, 67, 0.3), 0px 1px 3px 1px rgba(60, 64, 67, 0.15);\n",
              "      fill: #174EA6;\n",
              "    }\n",
              "\n",
              "    [theme=dark] .colab-df-convert {\n",
              "      background-color: #3B4455;\n",
              "      fill: #D2E3FC;\n",
              "    }\n",
              "\n",
              "    [theme=dark] .colab-df-convert:hover {\n",
              "      background-color: #434B5C;\n",
              "      box-shadow: 0px 1px 3px 1px rgba(0, 0, 0, 0.15);\n",
              "      filter: drop-shadow(0px 1px 2px rgba(0, 0, 0, 0.3));\n",
              "      fill: #FFFFFF;\n",
              "    }\n",
              "  </style>\n",
              "\n",
              "      <script>\n",
              "        const buttonEl =\n",
              "          document.querySelector('#df-13707226-2226-47b9-88b3-28f6f4b03718 button.colab-df-convert');\n",
              "        buttonEl.style.display =\n",
              "          google.colab.kernel.accessAllowed ? 'block' : 'none';\n",
              "\n",
              "        async function convertToInteractive(key) {\n",
              "          const element = document.querySelector('#df-13707226-2226-47b9-88b3-28f6f4b03718');\n",
              "          const dataTable =\n",
              "            await google.colab.kernel.invokeFunction('convertToInteractive',\n",
              "                                                     [key], {});\n",
              "          if (!dataTable) return;\n",
              "\n",
              "          const docLinkHtml = 'Like what you see? Visit the ' +\n",
              "            '<a target=\"_blank\" href=https://colab.research.google.com/notebooks/data_table.ipynb>data table notebook</a>'\n",
              "            + ' to learn more about interactive tables.';\n",
              "          element.innerHTML = '';\n",
              "          dataTable['output_type'] = 'display_data';\n",
              "          await google.colab.output.renderOutput(dataTable, element);\n",
              "          const docLink = document.createElement('div');\n",
              "          docLink.innerHTML = docLinkHtml;\n",
              "          element.appendChild(docLink);\n",
              "        }\n",
              "      </script>\n",
              "    </div>\n",
              "  </div>\n",
              "  "
            ]
          },
          "metadata": {},
          "execution_count": 1231
        }
      ]
    },
    {
      "cell_type": "code",
      "source": [
        "#Since we know that both of the countries that have missing region values are from Central and Southern Asia, we will simply fill the value up with the right region.\n",
        "\n",
        "df['Region'].fillna('Central and Southern Asia',inplace = True)\n",
        "df['Region'].isna().sum()"
      ],
      "metadata": {
        "colab": {
          "base_uri": "https://localhost:8080/"
        },
        "id": "tXTpWEcLkSTM",
        "outputId": "e4898c58-2ed9-444f-a0a5-c5df40b7128d"
      },
      "execution_count": 1232,
      "outputs": [
        {
          "output_type": "execute_result",
          "data": {
            "text/plain": [
              "0"
            ]
          },
          "metadata": {},
          "execution_count": 1232
        }
      ]
    },
    {
      "cell_type": "code",
      "source": [
        "#Now checking the numerical values for inconsistencies or odd values\n",
        "\n",
        "print(df.agg({'Literacy Rate':['min','mean','max']}),\"\\n\\n\",\n",
        "df.agg({'Age':['min','max','mean']}))"
      ],
      "metadata": {
        "colab": {
          "base_uri": "https://localhost:8080/"
        },
        "id": "4Xon__GcsWu_",
        "outputId": "a1d3ddb3-f2ba-4bad-d1e6-18fbf18ce82b"
      },
      "execution_count": 1233,
      "outputs": [
        {
          "output_type": "stream",
          "name": "stdout",
          "text": [
            "      Literacy Rate\n",
            "min        0.004025\n",
            "mean       0.816947\n",
            "max        1.000000 \n",
            "\n",
            "      Age\n",
            "min  15+\n",
            "max  65+\n"
          ]
        }
      ]
    },
    {
      "cell_type": "code",
      "source": [
        "#Checking which regions we have the most data\n",
        "\n",
        "plt.xticks(rotation = 90)\n",
        "plt.hist(df['Region'],bins=7);"
      ],
      "metadata": {
        "colab": {
          "base_uri": "https://localhost:8080/",
          "height": 442
        },
        "id": "eViAkgCnJT3Z",
        "outputId": "3b2b5200-b7f7-4b2f-f4d2-896a451978b0"
      },
      "execution_count": 1234,
      "outputs": [
        {
          "output_type": "display_data",
          "data": {
            "text/plain": [
              "<Figure size 432x288 with 1 Axes>"
            ],
            "image/png": "[encoded data removed]"
          },
          "metadata": {}
        }
      ]
    },
    {
      "cell_type": "code",
      "source": [
        "#Checking which year we received the most response\n",
        "plt.xticks(rotation = 45)\n",
        "plt.hist(df['Year'],bins=9);"
      ],
      "metadata": {
        "colab": {
          "base_uri": "https://localhost:8080/",
          "height": 285
        },
        "id": "D3wEobxSKuQA",
        "outputId": "6d543821-f29a-40a4-8a1d-532ebecb12e7"
      },
      "execution_count": 1235,
      "outputs": [
        {
          "output_type": "display_data",
          "data": {
            "text/plain": [
              "<Figure size 432x288 with 1 Axes>"
            ],
            "image/png": "[encoded data removed]"
          },
          "metadata": {}
        }
      ]
    },
    {
      "cell_type": "code",
      "source": [
        "#To address the main issue and help the organization decide where to put the extra effort in, we have plotted a graph showing the average literacy rate per region. \n",
        "\n",
        "per_region = df.groupby('Region').mean().sort_values('Literacy Rate').index\n",
        "\n",
        "sns.set_color_codes(\"pastel\")\n",
        "sns.set_style(\"darkgrid\")\n",
        "sns.barplot(data=df,x='Literacy Rate',y='Region',order=per_region)\n",
        "plt.show()\n",
        "\n",
        "#I was able to sort the barplot base from this source: https://stackoverflow.com/questions/70052556/how-to-order-the-bars-in-a-seaborn-barplot"
      ],
      "metadata": {
        "colab": {
          "base_uri": "https://localhost:8080/",
          "height": 285
        },
        "id": "QYZndd-fWx0P",
        "outputId": "b4286bda-a29c-48ee-f561-a45b20d0d69c"
      },
      "execution_count": 1236,
      "outputs": [
        {
          "output_type": "display_data",
          "data": {
            "text/plain": [
              "<Figure size 432x288 with 1 Axes>"
            ],
            "image/png": "[encoded data removed]"
          },
          "metadata": {}
        }
      ]
    },
    {
      "cell_type": "code",
      "source": [
        "#Since we see that the 2 region that has the most iliterate population is entral and Southern Asia and Sub-Saharan Africa, we will mainly focus on finding out on which countries needs the most help.\n",
        "\n",
        "csa = df['Region'] == 'Central and Southern Asia'\n",
        "ssa = df['Region'] == 'Sub-Saharan Africa'\n",
        "youth = df['Age'] == '15-24'\n",
        "low_lr_region = df[csa | ssa]\n",
        "per_country = low_lr_region.groupby('Country')['Literacy Rate'].mean().sort_values().index\n",
        "\n",
        "sns.set_style('dark')\n",
        "#sns.barplot(x='Literacy Rate',y='Country',data=low_lr_region,order=per_country[1:10],ci=None);\n",
        "#low_lr_region.groupby('Country')['Literacy Rate'].mean().sort_values()[1:10]\n",
        "grid = sns.FacetGrid(low_lr_region,col='Age',size=5.5);\n",
        "sns.set(font_scale=1);\n",
        "grid.map_dataframe(sns.barplot,y='Country',x='Literacy Rate',hue='Gender',order=per_country[1:10],ci=None,palette='dark');\n",
        "grid.add_legend();\n",
        "\n",
        "#Since we are mostly interested in helping the youth in becoming literate, we will focus on the first 2 plots.\n",
        "#Here We can see that on most of the countries, female is the more dominant in terms of iliteracty.\n",
        "#It would be best for the organization to launch more events or activites encouraging female to self-empowerment by becoming more literate. "
      ],
      "metadata": {
        "colab": {
          "base_uri": "https://localhost:8080/",
          "height": 436
        },
        "id": "oYJtmLWij6uL",
        "outputId": "7bddcb93-3e50-4d85-f5ec-6dbde4aeebbe"
      },
      "execution_count": 1237,
      "outputs": [
        {
          "output_type": "stream",
          "name": "stderr",
          "text": [
            "/usr/local/lib/python3.7/dist-packages/seaborn/axisgrid.py:337: UserWarning: The `size` parameter has been renamed to `height`; please update your code.\n",
            "  warnings.warn(msg, UserWarning)\n"
          ]
        },
        {
          "output_type": "display_data",
          "data": {
            "text/plain": [
              "<Figure size 1661.97x396 with 4 Axes>"
            ],
            "image/png": "[encoded data removed]"
          },
          "metadata": {}
        }
      ]
    }
  ]
}